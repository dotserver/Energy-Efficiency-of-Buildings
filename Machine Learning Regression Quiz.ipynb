{
 "cells": [
  {
   "cell_type": "code",
   "execution_count": 11,
   "id": "3844017f",
   "metadata": {},
   "outputs": [],
   "source": [
    "import pandas as pd\n",
    "import numpy as np\n",
    "import matplotlib.pyplot as plt\n",
    "import seaborn as sns"
   ]
  },
  {
   "cell_type": "code",
   "execution_count": 15,
   "id": "08f05645",
   "metadata": {},
   "outputs": [],
   "source": [
    "df = pd.read_csv(\"https://archive.ics.uci.edu/ml/machine-learning-databases/00374/energydata_complete.csv\")"
   ]
  },
  {
   "cell_type": "code",
   "execution_count": 16,
   "id": "0cdd1c4e",
   "metadata": {
    "scrolled": false
   },
   "outputs": [
    {
     "data": {
      "text/html": [
       "<div>\n",
       "<style scoped>\n",
       "    .dataframe tbody tr th:only-of-type {\n",
       "        vertical-align: middle;\n",
       "    }\n",
       "\n",
       "    .dataframe tbody tr th {\n",
       "        vertical-align: top;\n",
       "    }\n",
       "\n",
       "    .dataframe thead th {\n",
       "        text-align: right;\n",
       "    }\n",
       "</style>\n",
       "<table border=\"1\" class=\"dataframe\">\n",
       "  <thead>\n",
       "    <tr style=\"text-align: right;\">\n",
       "      <th></th>\n",
       "      <th>date</th>\n",
       "      <th>Appliances</th>\n",
       "      <th>lights</th>\n",
       "      <th>T1</th>\n",
       "      <th>RH_1</th>\n",
       "      <th>T2</th>\n",
       "      <th>RH_2</th>\n",
       "      <th>T3</th>\n",
       "      <th>RH_3</th>\n",
       "      <th>T4</th>\n",
       "      <th>...</th>\n",
       "      <th>T9</th>\n",
       "      <th>RH_9</th>\n",
       "      <th>T_out</th>\n",
       "      <th>Press_mm_hg</th>\n",
       "      <th>RH_out</th>\n",
       "      <th>Windspeed</th>\n",
       "      <th>Visibility</th>\n",
       "      <th>Tdewpoint</th>\n",
       "      <th>rv1</th>\n",
       "      <th>rv2</th>\n",
       "    </tr>\n",
       "  </thead>\n",
       "  <tbody>\n",
       "    <tr>\n",
       "      <th>0</th>\n",
       "      <td>2016-01-11 17:00:00</td>\n",
       "      <td>60</td>\n",
       "      <td>30</td>\n",
       "      <td>19.89</td>\n",
       "      <td>47.596667</td>\n",
       "      <td>19.2</td>\n",
       "      <td>44.790000</td>\n",
       "      <td>19.79</td>\n",
       "      <td>44.730000</td>\n",
       "      <td>19.000000</td>\n",
       "      <td>...</td>\n",
       "      <td>17.033333</td>\n",
       "      <td>45.53</td>\n",
       "      <td>6.600000</td>\n",
       "      <td>733.5</td>\n",
       "      <td>92.0</td>\n",
       "      <td>7.000000</td>\n",
       "      <td>63.000000</td>\n",
       "      <td>5.3</td>\n",
       "      <td>13.275433</td>\n",
       "      <td>13.275433</td>\n",
       "    </tr>\n",
       "    <tr>\n",
       "      <th>1</th>\n",
       "      <td>2016-01-11 17:10:00</td>\n",
       "      <td>60</td>\n",
       "      <td>30</td>\n",
       "      <td>19.89</td>\n",
       "      <td>46.693333</td>\n",
       "      <td>19.2</td>\n",
       "      <td>44.722500</td>\n",
       "      <td>19.79</td>\n",
       "      <td>44.790000</td>\n",
       "      <td>19.000000</td>\n",
       "      <td>...</td>\n",
       "      <td>17.066667</td>\n",
       "      <td>45.56</td>\n",
       "      <td>6.483333</td>\n",
       "      <td>733.6</td>\n",
       "      <td>92.0</td>\n",
       "      <td>6.666667</td>\n",
       "      <td>59.166667</td>\n",
       "      <td>5.2</td>\n",
       "      <td>18.606195</td>\n",
       "      <td>18.606195</td>\n",
       "    </tr>\n",
       "    <tr>\n",
       "      <th>2</th>\n",
       "      <td>2016-01-11 17:20:00</td>\n",
       "      <td>50</td>\n",
       "      <td>30</td>\n",
       "      <td>19.89</td>\n",
       "      <td>46.300000</td>\n",
       "      <td>19.2</td>\n",
       "      <td>44.626667</td>\n",
       "      <td>19.79</td>\n",
       "      <td>44.933333</td>\n",
       "      <td>18.926667</td>\n",
       "      <td>...</td>\n",
       "      <td>17.000000</td>\n",
       "      <td>45.50</td>\n",
       "      <td>6.366667</td>\n",
       "      <td>733.7</td>\n",
       "      <td>92.0</td>\n",
       "      <td>6.333333</td>\n",
       "      <td>55.333333</td>\n",
       "      <td>5.1</td>\n",
       "      <td>28.642668</td>\n",
       "      <td>28.642668</td>\n",
       "    </tr>\n",
       "    <tr>\n",
       "      <th>3</th>\n",
       "      <td>2016-01-11 17:30:00</td>\n",
       "      <td>50</td>\n",
       "      <td>40</td>\n",
       "      <td>19.89</td>\n",
       "      <td>46.066667</td>\n",
       "      <td>19.2</td>\n",
       "      <td>44.590000</td>\n",
       "      <td>19.79</td>\n",
       "      <td>45.000000</td>\n",
       "      <td>18.890000</td>\n",
       "      <td>...</td>\n",
       "      <td>17.000000</td>\n",
       "      <td>45.40</td>\n",
       "      <td>6.250000</td>\n",
       "      <td>733.8</td>\n",
       "      <td>92.0</td>\n",
       "      <td>6.000000</td>\n",
       "      <td>51.500000</td>\n",
       "      <td>5.0</td>\n",
       "      <td>45.410389</td>\n",
       "      <td>45.410389</td>\n",
       "    </tr>\n",
       "    <tr>\n",
       "      <th>4</th>\n",
       "      <td>2016-01-11 17:40:00</td>\n",
       "      <td>60</td>\n",
       "      <td>40</td>\n",
       "      <td>19.89</td>\n",
       "      <td>46.333333</td>\n",
       "      <td>19.2</td>\n",
       "      <td>44.530000</td>\n",
       "      <td>19.79</td>\n",
       "      <td>45.000000</td>\n",
       "      <td>18.890000</td>\n",
       "      <td>...</td>\n",
       "      <td>17.000000</td>\n",
       "      <td>45.40</td>\n",
       "      <td>6.133333</td>\n",
       "      <td>733.9</td>\n",
       "      <td>92.0</td>\n",
       "      <td>5.666667</td>\n",
       "      <td>47.666667</td>\n",
       "      <td>4.9</td>\n",
       "      <td>10.084097</td>\n",
       "      <td>10.084097</td>\n",
       "    </tr>\n",
       "  </tbody>\n",
       "</table>\n",
       "<p>5 rows × 29 columns</p>\n",
       "</div>"
      ],
      "text/plain": [
       "                  date  Appliances  lights     T1       RH_1    T2       RH_2  \\\n",
       "0  2016-01-11 17:00:00          60      30  19.89  47.596667  19.2  44.790000   \n",
       "1  2016-01-11 17:10:00          60      30  19.89  46.693333  19.2  44.722500   \n",
       "2  2016-01-11 17:20:00          50      30  19.89  46.300000  19.2  44.626667   \n",
       "3  2016-01-11 17:30:00          50      40  19.89  46.066667  19.2  44.590000   \n",
       "4  2016-01-11 17:40:00          60      40  19.89  46.333333  19.2  44.530000   \n",
       "\n",
       "      T3       RH_3         T4  ...         T9   RH_9     T_out  Press_mm_hg  \\\n",
       "0  19.79  44.730000  19.000000  ...  17.033333  45.53  6.600000        733.5   \n",
       "1  19.79  44.790000  19.000000  ...  17.066667  45.56  6.483333        733.6   \n",
       "2  19.79  44.933333  18.926667  ...  17.000000  45.50  6.366667        733.7   \n",
       "3  19.79  45.000000  18.890000  ...  17.000000  45.40  6.250000        733.8   \n",
       "4  19.79  45.000000  18.890000  ...  17.000000  45.40  6.133333        733.9   \n",
       "\n",
       "   RH_out  Windspeed  Visibility  Tdewpoint        rv1        rv2  \n",
       "0    92.0   7.000000   63.000000        5.3  13.275433  13.275433  \n",
       "1    92.0   6.666667   59.166667        5.2  18.606195  18.606195  \n",
       "2    92.0   6.333333   55.333333        5.1  28.642668  28.642668  \n",
       "3    92.0   6.000000   51.500000        5.0  45.410389  45.410389  \n",
       "4    92.0   5.666667   47.666667        4.9  10.084097  10.084097  \n",
       "\n",
       "[5 rows x 29 columns]"
      ]
     },
     "execution_count": 16,
     "metadata": {},
     "output_type": "execute_result"
    }
   ],
   "source": [
    "df.head()"
   ]
  },
  {
   "cell_type": "code",
   "execution_count": 36,
   "id": "032988c3",
   "metadata": {},
   "outputs": [
    {
     "name": "stdout",
     "output_type": "stream",
     "text": [
      "<class 'pandas.core.frame.DataFrame'>\n",
      "RangeIndex: 19735 entries, 0 to 19734\n",
      "Data columns (total 27 columns):\n",
      " #   Column       Non-Null Count  Dtype  \n",
      "---  ------       --------------  -----  \n",
      " 0   Appliances   19735 non-null  int64  \n",
      " 1   T1           19735 non-null  float64\n",
      " 2   RH_1         19735 non-null  float64\n",
      " 3   T2           19735 non-null  float64\n",
      " 4   RH_2         19735 non-null  float64\n",
      " 5   T3           19735 non-null  float64\n",
      " 6   RH_3         19735 non-null  float64\n",
      " 7   T4           19735 non-null  float64\n",
      " 8   RH_4         19735 non-null  float64\n",
      " 9   T5           19735 non-null  float64\n",
      " 10  RH_5         19735 non-null  float64\n",
      " 11  T6           19735 non-null  float64\n",
      " 12  RH_6         19735 non-null  float64\n",
      " 13  T7           19735 non-null  float64\n",
      " 14  RH_7         19735 non-null  float64\n",
      " 15  T8           19735 non-null  float64\n",
      " 16  RH_8         19735 non-null  float64\n",
      " 17  T9           19735 non-null  float64\n",
      " 18  RH_9         19735 non-null  float64\n",
      " 19  T_out        19735 non-null  float64\n",
      " 20  Press_mm_hg  19735 non-null  float64\n",
      " 21  RH_out       19735 non-null  float64\n",
      " 22  Windspeed    19735 non-null  float64\n",
      " 23  Visibility   19735 non-null  float64\n",
      " 24  Tdewpoint    19735 non-null  float64\n",
      " 25  rv1          19735 non-null  float64\n",
      " 26  rv2          19735 non-null  float64\n",
      "dtypes: float64(26), int64(1)\n",
      "memory usage: 4.1 MB\n"
     ]
    }
   ],
   "source": [
    "df1.info()"
   ]
  },
  {
   "cell_type": "code",
   "execution_count": 75,
   "id": "b5d07fb5",
   "metadata": {},
   "outputs": [],
   "source": [
    "x = df1['T2']\n",
    "y = df1['T6']"
   ]
  },
  {
   "cell_type": "code",
   "execution_count": 81,
   "id": "ceffe7ab",
   "metadata": {},
   "outputs": [],
   "source": [
    "x = pd.DataFrame(x)\n",
    "y = pd.DataFrame(y)"
   ]
  },
  {
   "cell_type": "code",
   "execution_count": 82,
   "id": "14d1213f",
   "metadata": {},
   "outputs": [],
   "source": [
    "from sklearn.model_selection import train_test_split\n",
    "x_train, x_test, y_train, y_test = train_test_split(x,y,test_size=0.3,random_state=42)"
   ]
  },
  {
   "cell_type": "code",
   "execution_count": 83,
   "id": "be5c9d47",
   "metadata": {
    "scrolled": true
   },
   "outputs": [],
   "source": [
    "from sklearn.linear_model import LinearRegression\n",
    "linear_model = LinearRegression()\n",
    "# fit the model into the training dataset\n",
    "linear_model.fit(x_train,y_train)\n",
    "# obtain predictions\n",
    "predicted_values = linear_model.predict(x_test)"
   ]
  },
  {
   "cell_type": "markdown",
   "id": "cf5e7bda",
   "metadata": {},
   "source": [
    "#### R-Squared"
   ]
  },
  {
   "cell_type": "code",
   "execution_count": 84,
   "id": "524cb937",
   "metadata": {},
   "outputs": [
    {
     "data": {
      "text/plain": [
       "0.64"
      ]
     },
     "execution_count": 84,
     "metadata": {},
     "output_type": "execute_result"
    }
   ],
   "source": [
    "from sklearn.metrics import r2_score\n",
    "r2_score = r2_score(y_test,predicted_values)\n",
    "round(r2_score,2)"
   ]
  },
  {
   "cell_type": "code",
   "execution_count": 18,
   "id": "45d9285e",
   "metadata": {},
   "outputs": [],
   "source": [
    "# Dropping lights and date columns\n",
    "df1 = df.drop(columns=['lights','date'])"
   ]
  },
  {
   "cell_type": "code",
   "execution_count": 43,
   "id": "fe81d0b3",
   "metadata": {},
   "outputs": [],
   "source": [
    "# Firstly we normalise our dataset to a common scale using the min max scaler\n",
    "from sklearn.preprocessing import MinMaxScaler"
   ]
  },
  {
   "cell_type": "code",
   "execution_count": 44,
   "id": "d954c066",
   "metadata": {},
   "outputs": [],
   "source": [
    "scaler = MinMaxScaler()\n",
    "normalised_df1 = pd.DataFrame(scaler.fit_transform(df1),columns=df1.columns)\n",
    "# separating the predictors and target variable\n",
    "df1_features = normalised_df1.drop(columns=['Appliances'])\n",
    "appliances_target = normalised_df1['Appliances']"
   ]
  },
  {
   "cell_type": "code",
   "execution_count": 45,
   "id": "01101428",
   "metadata": {
    "scrolled": true
   },
   "outputs": [
    {
     "data": {
      "text/html": [
       "<div>\n",
       "<style scoped>\n",
       "    .dataframe tbody tr th:only-of-type {\n",
       "        vertical-align: middle;\n",
       "    }\n",
       "\n",
       "    .dataframe tbody tr th {\n",
       "        vertical-align: top;\n",
       "    }\n",
       "\n",
       "    .dataframe thead th {\n",
       "        text-align: right;\n",
       "    }\n",
       "</style>\n",
       "<table border=\"1\" class=\"dataframe\">\n",
       "  <thead>\n",
       "    <tr style=\"text-align: right;\">\n",
       "      <th></th>\n",
       "      <th>Appliances</th>\n",
       "      <th>T1</th>\n",
       "      <th>RH_1</th>\n",
       "      <th>T2</th>\n",
       "      <th>RH_2</th>\n",
       "      <th>T3</th>\n",
       "      <th>RH_3</th>\n",
       "      <th>T4</th>\n",
       "      <th>RH_4</th>\n",
       "      <th>T5</th>\n",
       "      <th>...</th>\n",
       "      <th>T9</th>\n",
       "      <th>RH_9</th>\n",
       "      <th>T_out</th>\n",
       "      <th>Press_mm_hg</th>\n",
       "      <th>RH_out</th>\n",
       "      <th>Windspeed</th>\n",
       "      <th>Visibility</th>\n",
       "      <th>Tdewpoint</th>\n",
       "      <th>rv1</th>\n",
       "      <th>rv2</th>\n",
       "    </tr>\n",
       "  </thead>\n",
       "  <tbody>\n",
       "    <tr>\n",
       "      <th>0</th>\n",
       "      <td>0.046729</td>\n",
       "      <td>0.32735</td>\n",
       "      <td>0.566187</td>\n",
       "      <td>0.225345</td>\n",
       "      <td>0.684038</td>\n",
       "      <td>0.215188</td>\n",
       "      <td>0.746066</td>\n",
       "      <td>0.351351</td>\n",
       "      <td>0.764262</td>\n",
       "      <td>0.175506</td>\n",
       "      <td>...</td>\n",
       "      <td>0.223032</td>\n",
       "      <td>0.677290</td>\n",
       "      <td>0.372990</td>\n",
       "      <td>0.097674</td>\n",
       "      <td>0.894737</td>\n",
       "      <td>0.500000</td>\n",
       "      <td>0.953846</td>\n",
       "      <td>0.538462</td>\n",
       "      <td>0.265449</td>\n",
       "      <td>0.265449</td>\n",
       "    </tr>\n",
       "    <tr>\n",
       "      <th>1</th>\n",
       "      <td>0.046729</td>\n",
       "      <td>0.32735</td>\n",
       "      <td>0.541326</td>\n",
       "      <td>0.225345</td>\n",
       "      <td>0.682140</td>\n",
       "      <td>0.215188</td>\n",
       "      <td>0.748871</td>\n",
       "      <td>0.351351</td>\n",
       "      <td>0.782437</td>\n",
       "      <td>0.175506</td>\n",
       "      <td>...</td>\n",
       "      <td>0.226500</td>\n",
       "      <td>0.678532</td>\n",
       "      <td>0.369239</td>\n",
       "      <td>0.100000</td>\n",
       "      <td>0.894737</td>\n",
       "      <td>0.476190</td>\n",
       "      <td>0.894872</td>\n",
       "      <td>0.533937</td>\n",
       "      <td>0.372083</td>\n",
       "      <td>0.372083</td>\n",
       "    </tr>\n",
       "    <tr>\n",
       "      <th>2</th>\n",
       "      <td>0.037383</td>\n",
       "      <td>0.32735</td>\n",
       "      <td>0.530502</td>\n",
       "      <td>0.225345</td>\n",
       "      <td>0.679445</td>\n",
       "      <td>0.215188</td>\n",
       "      <td>0.755569</td>\n",
       "      <td>0.344745</td>\n",
       "      <td>0.778062</td>\n",
       "      <td>0.175506</td>\n",
       "      <td>...</td>\n",
       "      <td>0.219563</td>\n",
       "      <td>0.676049</td>\n",
       "      <td>0.365488</td>\n",
       "      <td>0.102326</td>\n",
       "      <td>0.894737</td>\n",
       "      <td>0.452381</td>\n",
       "      <td>0.835897</td>\n",
       "      <td>0.529412</td>\n",
       "      <td>0.572848</td>\n",
       "      <td>0.572848</td>\n",
       "    </tr>\n",
       "    <tr>\n",
       "      <th>3</th>\n",
       "      <td>0.037383</td>\n",
       "      <td>0.32735</td>\n",
       "      <td>0.524080</td>\n",
       "      <td>0.225345</td>\n",
       "      <td>0.678414</td>\n",
       "      <td>0.215188</td>\n",
       "      <td>0.758685</td>\n",
       "      <td>0.341441</td>\n",
       "      <td>0.770949</td>\n",
       "      <td>0.175506</td>\n",
       "      <td>...</td>\n",
       "      <td>0.219563</td>\n",
       "      <td>0.671909</td>\n",
       "      <td>0.361736</td>\n",
       "      <td>0.104651</td>\n",
       "      <td>0.894737</td>\n",
       "      <td>0.428571</td>\n",
       "      <td>0.776923</td>\n",
       "      <td>0.524887</td>\n",
       "      <td>0.908261</td>\n",
       "      <td>0.908261</td>\n",
       "    </tr>\n",
       "    <tr>\n",
       "      <th>4</th>\n",
       "      <td>0.046729</td>\n",
       "      <td>0.32735</td>\n",
       "      <td>0.531419</td>\n",
       "      <td>0.225345</td>\n",
       "      <td>0.676727</td>\n",
       "      <td>0.215188</td>\n",
       "      <td>0.758685</td>\n",
       "      <td>0.341441</td>\n",
       "      <td>0.762697</td>\n",
       "      <td>0.178691</td>\n",
       "      <td>...</td>\n",
       "      <td>0.219563</td>\n",
       "      <td>0.671909</td>\n",
       "      <td>0.357985</td>\n",
       "      <td>0.106977</td>\n",
       "      <td>0.894737</td>\n",
       "      <td>0.404762</td>\n",
       "      <td>0.717949</td>\n",
       "      <td>0.520362</td>\n",
       "      <td>0.201611</td>\n",
       "      <td>0.201611</td>\n",
       "    </tr>\n",
       "  </tbody>\n",
       "</table>\n",
       "<p>5 rows × 27 columns</p>\n",
       "</div>"
      ],
      "text/plain": [
       "   Appliances       T1      RH_1        T2      RH_2        T3      RH_3  \\\n",
       "0    0.046729  0.32735  0.566187  0.225345  0.684038  0.215188  0.746066   \n",
       "1    0.046729  0.32735  0.541326  0.225345  0.682140  0.215188  0.748871   \n",
       "2    0.037383  0.32735  0.530502  0.225345  0.679445  0.215188  0.755569   \n",
       "3    0.037383  0.32735  0.524080  0.225345  0.678414  0.215188  0.758685   \n",
       "4    0.046729  0.32735  0.531419  0.225345  0.676727  0.215188  0.758685   \n",
       "\n",
       "         T4      RH_4        T5  ...        T9      RH_9     T_out  \\\n",
       "0  0.351351  0.764262  0.175506  ...  0.223032  0.677290  0.372990   \n",
       "1  0.351351  0.782437  0.175506  ...  0.226500  0.678532  0.369239   \n",
       "2  0.344745  0.778062  0.175506  ...  0.219563  0.676049  0.365488   \n",
       "3  0.341441  0.770949  0.175506  ...  0.219563  0.671909  0.361736   \n",
       "4  0.341441  0.762697  0.178691  ...  0.219563  0.671909  0.357985   \n",
       "\n",
       "   Press_mm_hg    RH_out  Windspeed  Visibility  Tdewpoint       rv1       rv2  \n",
       "0     0.097674  0.894737   0.500000    0.953846   0.538462  0.265449  0.265449  \n",
       "1     0.100000  0.894737   0.476190    0.894872   0.533937  0.372083  0.372083  \n",
       "2     0.102326  0.894737   0.452381    0.835897   0.529412  0.572848  0.572848  \n",
       "3     0.104651  0.894737   0.428571    0.776923   0.524887  0.908261  0.908261  \n",
       "4     0.106977  0.894737   0.404762    0.717949   0.520362  0.201611  0.201611  \n",
       "\n",
       "[5 rows x 27 columns]"
      ]
     },
     "execution_count": 45,
     "metadata": {},
     "output_type": "execute_result"
    }
   ],
   "source": [
    "normalised_df1.head()"
   ]
  },
  {
   "cell_type": "code",
   "execution_count": 46,
   "id": "e747e71a",
   "metadata": {},
   "outputs": [],
   "source": [
    "from sklearn.model_selection import train_test_split"
   ]
  },
  {
   "cell_type": "code",
   "execution_count": 47,
   "id": "89f6dd1b",
   "metadata": {},
   "outputs": [],
   "source": [
    "x_train, x_test, y_train, y_test = train_test_split(df1_features,\n",
    "                                                    appliances_target, \n",
    "                                                    test_size=0.3,\n",
    "                                                    random_state=42)"
   ]
  },
  {
   "cell_type": "markdown",
   "id": "4dc02808",
   "metadata": {},
   "source": [
    "## Linear Regression Model"
   ]
  },
  {
   "cell_type": "code",
   "execution_count": 63,
   "id": "874a0e57",
   "metadata": {},
   "outputs": [],
   "source": [
    "from sklearn.linear_model import LinearRegression\n",
    "linear_model = LinearRegression()\n",
    "# fit the model into the training dataset\n",
    "linear_model.fit(x_train,y_train)\n",
    "# obtain predictions\n",
    "predicted_values = linear_model.predict(x_test)"
   ]
  },
  {
   "cell_type": "markdown",
   "id": "609ab663",
   "metadata": {},
   "source": [
    "#### Mean Absolute Error"
   ]
  },
  {
   "cell_type": "code",
   "execution_count": 49,
   "id": "02ed3855",
   "metadata": {},
   "outputs": [
    {
     "data": {
      "text/plain": [
       "0.05"
      ]
     },
     "execution_count": 49,
     "metadata": {},
     "output_type": "execute_result"
    }
   ],
   "source": [
    "# MAE\n",
    "from sklearn.metrics import mean_absolute_error\n",
    "mae = mean_absolute_error(y_test,predicted_values)\n",
    "round(mae,2)"
   ]
  },
  {
   "cell_type": "markdown",
   "id": "cd548f40",
   "metadata": {},
   "source": [
    "#### Residual Sum of Square"
   ]
  },
  {
   "cell_type": "code",
   "execution_count": 50,
   "id": "2c7ee77b",
   "metadata": {},
   "outputs": [
    {
     "data": {
      "text/plain": [
       "45.35"
      ]
     },
     "execution_count": 50,
     "metadata": {},
     "output_type": "execute_result"
    }
   ],
   "source": [
    "import numpy as np\n",
    "rss = np.sum(np.square(y_test - predicted_values))\n",
    "round(rss,2)"
   ]
  },
  {
   "cell_type": "markdown",
   "id": "ecd695fb",
   "metadata": {},
   "source": [
    "#### Root Mean Square Error (RMSE)"
   ]
  },
  {
   "cell_type": "code",
   "execution_count": 51,
   "id": "54e6fc1e",
   "metadata": {},
   "outputs": [
    {
     "data": {
      "text/plain": [
       "0.088"
      ]
     },
     "execution_count": 51,
     "metadata": {},
     "output_type": "execute_result"
    }
   ],
   "source": [
    "from sklearn.metrics import mean_squared_error\n",
    "rmse = np.sqrt(mean_squared_error(y_test,predicted_values))\n",
    "round(rmse,3)"
   ]
  },
  {
   "cell_type": "markdown",
   "id": "b2202b83",
   "metadata": {},
   "source": [
    "#### Coefficient of Determination/ R-Squared "
   ]
  },
  {
   "cell_type": "code",
   "execution_count": 52,
   "id": "3252b5aa",
   "metadata": {},
   "outputs": [
    {
     "data": {
      "text/plain": [
       "0.15"
      ]
     },
     "execution_count": 52,
     "metadata": {},
     "output_type": "execute_result"
    }
   ],
   "source": [
    "from sklearn.metrics import r2_score\n",
    "r2_score = r2_score(y_test,predicted_values)\n",
    "round(r2_score,2)"
   ]
  },
  {
   "cell_type": "code",
   "execution_count": 64,
   "id": "f6ef5c1b",
   "metadata": {},
   "outputs": [],
   "source": [
    "def get_weights_df(model, feat, col_name):\n",
    "    # this function returns the weight of every feature\n",
    "    weights = pd.Series(model.coef_, feat.columns).sort_values()\n",
    "    # .sort_values() arranges weight in ascending/descending order\n",
    "    weights_df = pd.DataFrame(weights).reset_index()\n",
    "    # .reset_index() renumbers the dataframe from 0\n",
    "    weights_df.columns = ['Features', col_name]\n",
    "    # assign the column names 'Features' and col_name from the function\n",
    "    weights_df[col_name].round(3)\n",
    "    return weights_df"
   ]
  },
  {
   "cell_type": "code",
   "execution_count": 65,
   "id": "96bdc635",
   "metadata": {},
   "outputs": [],
   "source": [
    "linear_model_weights = get_weights_df(linear_model,x_train,'Linear_Model_Weight')"
   ]
  },
  {
   "cell_type": "code",
   "execution_count": 67,
   "id": "d739fdbf",
   "metadata": {},
   "outputs": [
    {
     "data": {
      "text/html": [
       "<div>\n",
       "<style scoped>\n",
       "    .dataframe tbody tr th:only-of-type {\n",
       "        vertical-align: middle;\n",
       "    }\n",
       "\n",
       "    .dataframe tbody tr th {\n",
       "        vertical-align: top;\n",
       "    }\n",
       "\n",
       "    .dataframe thead th {\n",
       "        text-align: right;\n",
       "    }\n",
       "</style>\n",
       "<table border=\"1\" class=\"dataframe\">\n",
       "  <thead>\n",
       "    <tr style=\"text-align: right;\">\n",
       "      <th></th>\n",
       "      <th>Linear_Model_Weight</th>\n",
       "    </tr>\n",
       "  </thead>\n",
       "  <tbody>\n",
       "    <tr>\n",
       "      <th>count</th>\n",
       "      <td>2.600000e+01</td>\n",
       "    </tr>\n",
       "    <tr>\n",
       "      <th>mean</th>\n",
       "      <td>8.703379e-04</td>\n",
       "    </tr>\n",
       "    <tr>\n",
       "      <th>std</th>\n",
       "      <td>2.240341e+10</td>\n",
       "    </tr>\n",
       "    <tr>\n",
       "      <th>min</th>\n",
       "      <td>-7.920800e+10</td>\n",
       "    </tr>\n",
       "    <tr>\n",
       "      <th>25%</th>\n",
       "      <td>-6.938465e-02</td>\n",
       "    </tr>\n",
       "    <tr>\n",
       "      <th>50%</th>\n",
       "      <td>1.129704e-02</td>\n",
       "    </tr>\n",
       "    <tr>\n",
       "      <th>75%</th>\n",
       "      <td>8.154087e-02</td>\n",
       "    </tr>\n",
       "    <tr>\n",
       "      <th>max</th>\n",
       "      <td>7.920800e+10</td>\n",
       "    </tr>\n",
       "  </tbody>\n",
       "</table>\n",
       "</div>"
      ],
      "text/plain": [
       "       Linear_Model_Weight\n",
       "count         2.600000e+01\n",
       "mean          8.703379e-04\n",
       "std           2.240341e+10\n",
       "min          -7.920800e+10\n",
       "25%          -6.938465e-02\n",
       "50%           1.129704e-02\n",
       "75%           8.154087e-02\n",
       "max           7.920800e+10"
      ]
     },
     "execution_count": 67,
     "metadata": {},
     "output_type": "execute_result"
    }
   ],
   "source": [
    "linear_model_weights.describe()"
   ]
  },
  {
   "cell_type": "code",
   "execution_count": 66,
   "id": "1f2ff029",
   "metadata": {},
   "outputs": [
    {
     "data": {
      "text/html": [
       "<div>\n",
       "<style scoped>\n",
       "    .dataframe tbody tr th:only-of-type {\n",
       "        vertical-align: middle;\n",
       "    }\n",
       "\n",
       "    .dataframe tbody tr th {\n",
       "        vertical-align: top;\n",
       "    }\n",
       "\n",
       "    .dataframe thead th {\n",
       "        text-align: right;\n",
       "    }\n",
       "</style>\n",
       "<table border=\"1\" class=\"dataframe\">\n",
       "  <thead>\n",
       "    <tr style=\"text-align: right;\">\n",
       "      <th></th>\n",
       "      <th>Features</th>\n",
       "      <th>Linear_Model_Weight</th>\n",
       "    </tr>\n",
       "  </thead>\n",
       "  <tbody>\n",
       "    <tr>\n",
       "      <th>0</th>\n",
       "      <td>rv1</td>\n",
       "      <td>-7.920800e+10</td>\n",
       "    </tr>\n",
       "    <tr>\n",
       "      <th>1</th>\n",
       "      <td>RH_2</td>\n",
       "      <td>-4.568602e-01</td>\n",
       "    </tr>\n",
       "    <tr>\n",
       "      <th>2</th>\n",
       "      <td>T_out</td>\n",
       "      <td>-3.219087e-01</td>\n",
       "    </tr>\n",
       "    <tr>\n",
       "      <th>3</th>\n",
       "      <td>T2</td>\n",
       "      <td>-2.363151e-01</td>\n",
       "    </tr>\n",
       "    <tr>\n",
       "      <th>4</th>\n",
       "      <td>T9</td>\n",
       "      <td>-1.899521e-01</td>\n",
       "    </tr>\n",
       "    <tr>\n",
       "      <th>5</th>\n",
       "      <td>RH_8</td>\n",
       "      <td>-1.576331e-01</td>\n",
       "    </tr>\n",
       "    <tr>\n",
       "      <th>6</th>\n",
       "      <td>RH_out</td>\n",
       "      <td>-7.765954e-02</td>\n",
       "    </tr>\n",
       "    <tr>\n",
       "      <th>7</th>\n",
       "      <td>RH_7</td>\n",
       "      <td>-4.455998e-02</td>\n",
       "    </tr>\n",
       "    <tr>\n",
       "      <th>8</th>\n",
       "      <td>RH_9</td>\n",
       "      <td>-3.980982e-02</td>\n",
       "    </tr>\n",
       "    <tr>\n",
       "      <th>9</th>\n",
       "      <td>T5</td>\n",
       "      <td>-1.564582e-02</td>\n",
       "    </tr>\n",
       "    <tr>\n",
       "      <th>10</th>\n",
       "      <td>T1</td>\n",
       "      <td>-3.281051e-03</td>\n",
       "    </tr>\n",
       "    <tr>\n",
       "      <th>11</th>\n",
       "      <td>Press_mm_hg</td>\n",
       "      <td>6.865117e-03</td>\n",
       "    </tr>\n",
       "    <tr>\n",
       "      <th>12</th>\n",
       "      <td>T7</td>\n",
       "      <td>1.029490e-02</td>\n",
       "    </tr>\n",
       "    <tr>\n",
       "      <th>13</th>\n",
       "      <td>Visibility</td>\n",
       "      <td>1.229919e-02</td>\n",
       "    </tr>\n",
       "    <tr>\n",
       "      <th>14</th>\n",
       "      <td>RH_5</td>\n",
       "      <td>1.600441e-02</td>\n",
       "    </tr>\n",
       "    <tr>\n",
       "      <th>15</th>\n",
       "      <td>RH_4</td>\n",
       "      <td>2.641767e-02</td>\n",
       "    </tr>\n",
       "    <tr>\n",
       "      <th>16</th>\n",
       "      <td>T4</td>\n",
       "      <td>2.900741e-02</td>\n",
       "    </tr>\n",
       "    <tr>\n",
       "      <th>17</th>\n",
       "      <td>Windspeed</td>\n",
       "      <td>2.920699e-02</td>\n",
       "    </tr>\n",
       "    <tr>\n",
       "      <th>18</th>\n",
       "      <td>RH_6</td>\n",
       "      <td>3.806579e-02</td>\n",
       "    </tr>\n",
       "    <tr>\n",
       "      <th>19</th>\n",
       "      <td>RH_3</td>\n",
       "      <td>9.603256e-02</td>\n",
       "    </tr>\n",
       "    <tr>\n",
       "      <th>20</th>\n",
       "      <td>T8</td>\n",
       "      <td>1.020032e-01</td>\n",
       "    </tr>\n",
       "    <tr>\n",
       "      <th>21</th>\n",
       "      <td>Tdewpoint</td>\n",
       "      <td>1.177851e-01</td>\n",
       "    </tr>\n",
       "    <tr>\n",
       "      <th>22</th>\n",
       "      <td>T6</td>\n",
       "      <td>2.364673e-01</td>\n",
       "    </tr>\n",
       "    <tr>\n",
       "      <th>23</th>\n",
       "      <td>T3</td>\n",
       "      <td>2.907420e-01</td>\n",
       "    </tr>\n",
       "    <tr>\n",
       "      <th>24</th>\n",
       "      <td>RH_1</td>\n",
       "      <td>5.535923e-01</td>\n",
       "    </tr>\n",
       "    <tr>\n",
       "      <th>25</th>\n",
       "      <td>rv2</td>\n",
       "      <td>7.920800e+10</td>\n",
       "    </tr>\n",
       "  </tbody>\n",
       "</table>\n",
       "</div>"
      ],
      "text/plain": [
       "       Features  Linear_Model_Weight\n",
       "0           rv1        -7.920800e+10\n",
       "1          RH_2        -4.568602e-01\n",
       "2         T_out        -3.219087e-01\n",
       "3            T2        -2.363151e-01\n",
       "4            T9        -1.899521e-01\n",
       "5          RH_8        -1.576331e-01\n",
       "6        RH_out        -7.765954e-02\n",
       "7          RH_7        -4.455998e-02\n",
       "8          RH_9        -3.980982e-02\n",
       "9            T5        -1.564582e-02\n",
       "10           T1        -3.281051e-03\n",
       "11  Press_mm_hg         6.865117e-03\n",
       "12           T7         1.029490e-02\n",
       "13   Visibility         1.229919e-02\n",
       "14         RH_5         1.600441e-02\n",
       "15         RH_4         2.641767e-02\n",
       "16           T4         2.900741e-02\n",
       "17    Windspeed         2.920699e-02\n",
       "18         RH_6         3.806579e-02\n",
       "19         RH_3         9.603256e-02\n",
       "20           T8         1.020032e-01\n",
       "21    Tdewpoint         1.177851e-01\n",
       "22           T6         2.364673e-01\n",
       "23           T3         2.907420e-01\n",
       "24         RH_1         5.535923e-01\n",
       "25          rv2         7.920800e+10"
      ]
     },
     "execution_count": 66,
     "metadata": {},
     "output_type": "execute_result"
    }
   ],
   "source": [
    "linear_model_weights"
   ]
  },
  {
   "cell_type": "markdown",
   "id": "7561fcec",
   "metadata": {},
   "source": [
    "## Ridge regression model"
   ]
  },
  {
   "cell_type": "code",
   "execution_count": 60,
   "id": "00cd71cd",
   "metadata": {},
   "outputs": [
    {
     "data": {
      "text/plain": [
       "Ridge(alpha=0.4)"
      ]
     },
     "execution_count": 60,
     "metadata": {},
     "output_type": "execute_result"
    }
   ],
   "source": [
    "from sklearn.linear_model import Ridge\n",
    "ridge_reg = Ridge(alpha=0.4)\n",
    "ridge_reg.fit(x_train,y_train)"
   ]
  },
  {
   "cell_type": "code",
   "execution_count": 73,
   "id": "e540877c",
   "metadata": {},
   "outputs": [],
   "source": [
    "predicted_values = ridge_reg.predict(x_test)"
   ]
  },
  {
   "cell_type": "markdown",
   "id": "1f7a69fc",
   "metadata": {},
   "source": [
    "#### RSME"
   ]
  },
  {
   "cell_type": "code",
   "execution_count": 74,
   "id": "661789eb",
   "metadata": {},
   "outputs": [
    {
     "data": {
      "text/plain": [
       "0.088"
      ]
     },
     "execution_count": 74,
     "metadata": {},
     "output_type": "execute_result"
    }
   ],
   "source": [
    "from sklearn.metrics import mean_squared_error\n",
    "rmse = np.sqrt(mean_squared_error(y_test,predicted_values))\n",
    "round(rmse,3)"
   ]
  },
  {
   "cell_type": "markdown",
   "id": "34b25585",
   "metadata": {},
   "source": [
    "## Lasso Regression model"
   ]
  },
  {
   "cell_type": "code",
   "execution_count": 68,
   "id": "010ce43e",
   "metadata": {},
   "outputs": [
    {
     "data": {
      "text/plain": [
       "Lasso(alpha=0.001)"
      ]
     },
     "execution_count": 68,
     "metadata": {},
     "output_type": "execute_result"
    }
   ],
   "source": [
    "from sklearn.linear_model import Lasso\n",
    "lasso_reg = Lasso(alpha=0.001)\n",
    "lasso_reg.fit(x_train,y_train)"
   ]
  },
  {
   "cell_type": "code",
   "execution_count": 69,
   "id": "cdb42420",
   "metadata": {},
   "outputs": [],
   "source": [
    "predicted_values = lasso_reg.predict(x_test)"
   ]
  },
  {
   "cell_type": "code",
   "execution_count": 70,
   "id": "07b94c31",
   "metadata": {},
   "outputs": [],
   "source": [
    "lasso_weights_df = get_weights_df(lasso_reg,x_train,'Lasso_Weight')"
   ]
  },
  {
   "cell_type": "code",
   "execution_count": 71,
   "id": "dacbaef7",
   "metadata": {},
   "outputs": [
    {
     "data": {
      "text/html": [
       "<div>\n",
       "<style scoped>\n",
       "    .dataframe tbody tr th:only-of-type {\n",
       "        vertical-align: middle;\n",
       "    }\n",
       "\n",
       "    .dataframe tbody tr th {\n",
       "        vertical-align: top;\n",
       "    }\n",
       "\n",
       "    .dataframe thead th {\n",
       "        text-align: right;\n",
       "    }\n",
       "</style>\n",
       "<table border=\"1\" class=\"dataframe\">\n",
       "  <thead>\n",
       "    <tr style=\"text-align: right;\">\n",
       "      <th></th>\n",
       "      <th>Features</th>\n",
       "      <th>Lasso_Weight</th>\n",
       "    </tr>\n",
       "  </thead>\n",
       "  <tbody>\n",
       "    <tr>\n",
       "      <th>0</th>\n",
       "      <td>RH_out</td>\n",
       "      <td>-0.049557</td>\n",
       "    </tr>\n",
       "    <tr>\n",
       "      <th>1</th>\n",
       "      <td>RH_8</td>\n",
       "      <td>-0.000110</td>\n",
       "    </tr>\n",
       "    <tr>\n",
       "      <th>2</th>\n",
       "      <td>T1</td>\n",
       "      <td>0.000000</td>\n",
       "    </tr>\n",
       "    <tr>\n",
       "      <th>3</th>\n",
       "      <td>Tdewpoint</td>\n",
       "      <td>0.000000</td>\n",
       "    </tr>\n",
       "    <tr>\n",
       "      <th>4</th>\n",
       "      <td>Visibility</td>\n",
       "      <td>0.000000</td>\n",
       "    </tr>\n",
       "    <tr>\n",
       "      <th>5</th>\n",
       "      <td>Press_mm_hg</td>\n",
       "      <td>-0.000000</td>\n",
       "    </tr>\n",
       "    <tr>\n",
       "      <th>6</th>\n",
       "      <td>T_out</td>\n",
       "      <td>0.000000</td>\n",
       "    </tr>\n",
       "    <tr>\n",
       "      <th>7</th>\n",
       "      <td>RH_9</td>\n",
       "      <td>-0.000000</td>\n",
       "    </tr>\n",
       "    <tr>\n",
       "      <th>8</th>\n",
       "      <td>T9</td>\n",
       "      <td>-0.000000</td>\n",
       "    </tr>\n",
       "    <tr>\n",
       "      <th>9</th>\n",
       "      <td>T8</td>\n",
       "      <td>0.000000</td>\n",
       "    </tr>\n",
       "    <tr>\n",
       "      <th>10</th>\n",
       "      <td>RH_7</td>\n",
       "      <td>-0.000000</td>\n",
       "    </tr>\n",
       "    <tr>\n",
       "      <th>11</th>\n",
       "      <td>rv1</td>\n",
       "      <td>-0.000000</td>\n",
       "    </tr>\n",
       "    <tr>\n",
       "      <th>12</th>\n",
       "      <td>T7</td>\n",
       "      <td>-0.000000</td>\n",
       "    </tr>\n",
       "    <tr>\n",
       "      <th>13</th>\n",
       "      <td>T6</td>\n",
       "      <td>0.000000</td>\n",
       "    </tr>\n",
       "    <tr>\n",
       "      <th>14</th>\n",
       "      <td>RH_5</td>\n",
       "      <td>0.000000</td>\n",
       "    </tr>\n",
       "    <tr>\n",
       "      <th>15</th>\n",
       "      <td>T5</td>\n",
       "      <td>-0.000000</td>\n",
       "    </tr>\n",
       "    <tr>\n",
       "      <th>16</th>\n",
       "      <td>RH_4</td>\n",
       "      <td>0.000000</td>\n",
       "    </tr>\n",
       "    <tr>\n",
       "      <th>17</th>\n",
       "      <td>T4</td>\n",
       "      <td>-0.000000</td>\n",
       "    </tr>\n",
       "    <tr>\n",
       "      <th>18</th>\n",
       "      <td>RH_3</td>\n",
       "      <td>0.000000</td>\n",
       "    </tr>\n",
       "    <tr>\n",
       "      <th>19</th>\n",
       "      <td>T3</td>\n",
       "      <td>0.000000</td>\n",
       "    </tr>\n",
       "    <tr>\n",
       "      <th>20</th>\n",
       "      <td>RH_2</td>\n",
       "      <td>-0.000000</td>\n",
       "    </tr>\n",
       "    <tr>\n",
       "      <th>21</th>\n",
       "      <td>T2</td>\n",
       "      <td>0.000000</td>\n",
       "    </tr>\n",
       "    <tr>\n",
       "      <th>22</th>\n",
       "      <td>RH_6</td>\n",
       "      <td>-0.000000</td>\n",
       "    </tr>\n",
       "    <tr>\n",
       "      <th>23</th>\n",
       "      <td>rv2</td>\n",
       "      <td>-0.000000</td>\n",
       "    </tr>\n",
       "    <tr>\n",
       "      <th>24</th>\n",
       "      <td>Windspeed</td>\n",
       "      <td>0.002912</td>\n",
       "    </tr>\n",
       "    <tr>\n",
       "      <th>25</th>\n",
       "      <td>RH_1</td>\n",
       "      <td>0.017880</td>\n",
       "    </tr>\n",
       "  </tbody>\n",
       "</table>\n",
       "</div>"
      ],
      "text/plain": [
       "       Features  Lasso_Weight\n",
       "0        RH_out     -0.049557\n",
       "1          RH_8     -0.000110\n",
       "2            T1      0.000000\n",
       "3     Tdewpoint      0.000000\n",
       "4    Visibility      0.000000\n",
       "5   Press_mm_hg     -0.000000\n",
       "6         T_out      0.000000\n",
       "7          RH_9     -0.000000\n",
       "8            T9     -0.000000\n",
       "9            T8      0.000000\n",
       "10         RH_7     -0.000000\n",
       "11          rv1     -0.000000\n",
       "12           T7     -0.000000\n",
       "13           T6      0.000000\n",
       "14         RH_5      0.000000\n",
       "15           T5     -0.000000\n",
       "16         RH_4      0.000000\n",
       "17           T4     -0.000000\n",
       "18         RH_3      0.000000\n",
       "19           T3      0.000000\n",
       "20         RH_2     -0.000000\n",
       "21           T2      0.000000\n",
       "22         RH_6     -0.000000\n",
       "23          rv2     -0.000000\n",
       "24    Windspeed      0.002912\n",
       "25         RH_1      0.017880"
      ]
     },
     "execution_count": 71,
     "metadata": {},
     "output_type": "execute_result"
    }
   ],
   "source": [
    "lasso_weights_df"
   ]
  },
  {
   "cell_type": "code",
   "execution_count": 88,
   "id": "3e3ddcd9",
   "metadata": {},
   "outputs": [
    {
     "data": {
      "text/plain": [
       "Features        4\n",
       "Lasso_Weight    4\n",
       "dtype: int64"
      ]
     },
     "execution_count": 88,
     "metadata": {},
     "output_type": "execute_result"
    }
   ],
   "source": [
    "lasso_weights_df[lasso_weights_df['Lasso_Weight'] != 0].count()"
   ]
  },
  {
   "cell_type": "markdown",
   "id": "8a1a2382",
   "metadata": {},
   "source": [
    "#### RMSE"
   ]
  },
  {
   "cell_type": "code",
   "execution_count": 72,
   "id": "5de9936f",
   "metadata": {},
   "outputs": [
    {
     "data": {
      "text/plain": [
       "0.094"
      ]
     },
     "execution_count": 72,
     "metadata": {},
     "output_type": "execute_result"
    }
   ],
   "source": [
    "from sklearn.metrics import mean_squared_error\n",
    "rmse = np.sqrt(mean_squared_error(y_test,predicted_values))\n",
    "round(rmse,3)"
   ]
  },
  {
   "cell_type": "markdown",
   "id": "1bf98418",
   "metadata": {},
   "source": [
    "# THANK YOU!!!"
   ]
  }
 ],
 "metadata": {
  "kernelspec": {
   "display_name": "Python 3",
   "language": "python",
   "name": "python3"
  },
  "language_info": {
   "codemirror_mode": {
    "name": "ipython",
    "version": 3
   },
   "file_extension": ".py",
   "mimetype": "text/x-python",
   "name": "python",
   "nbconvert_exporter": "python",
   "pygments_lexer": "ipython3",
   "version": "3.8.8"
  }
 },
 "nbformat": 4,
 "nbformat_minor": 5
}
